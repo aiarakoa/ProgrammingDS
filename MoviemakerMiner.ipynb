{
 "cells": [
  {
   "cell_type": "code",
   "execution_count": 44,
   "id": "9d5c4bb1-c7fb-4d23-a6e0-02fe5791ab48",
   "metadata": {
    "scrolled": true
   },
   "outputs": [
    {
     "name": "stdout",
     "output_type": "stream",
     "text": [
      "[{'title': '1. La habitación de al lado', 'url': 'https://www.imdb.com//title/tt29439114/?ref_=sr_t_1', 'ratings': {'imdb': {'rating': '6.8', 'votes': '\\xa0(18K)'}, 'metacritic': {'metascore': '70'}}}, {'title': '2. El juego del asesino', 'url': 'https://www.imdb.com//title/tt0327785/?ref_=sr_t_2', 'ratings': {'imdb': {'rating': '5.8', 'votes': '\\xa0(16K)'}, 'metacritic': {'metascore': '36'}}}, {'title': '3. The Penguin Lessons', 'url': 'https://www.imdb.com//title/tt26677014/?ref_=sr_t_3', 'ratings': {'imdb': {'rating': '7.3', 'votes': '\\xa0(258)'}, 'metacritic': {'metascore': '53'}}}, {'title': '4. Culpa tuya', 'url': 'https://www.imdb.com//title/tt28510079/?ref_=sr_t_4', 'ratings': {'imdb': {'rating': '5.2', 'votes': '\\xa0(13K)'}}}, {'title': '5. Apocalipsis Z: El principio del fin', 'url': 'https://www.imdb.com//title/tt27599851/?ref_=sr_t_5', 'ratings': {'imdb': {'rating': '6.1', 'votes': '\\xa0(19K)'}}}, {'title': '6. Hechizados', 'url': 'https://www.imdb.com//title/tt7215232/?ref_=sr_t_6', 'ratings': {'imdb': {'rating': '5.7', 'votes': '\\xa0(6.4K)'}, 'metacritic': {'metascore': '54'}}}, {'title': '7. La última noche en Tremor', 'url': 'https://www.imdb.com//title/tt27349314/?ref_=sr_t_7', 'ratings': {'imdb': {'rating': '7.1', 'votes': '\\xa0(4.3K)'}}}, {'title': '8. El hoyo 2', 'url': 'https://www.imdb.com//title/tt27729779/?ref_=sr_t_8', 'ratings': {'imdb': {'rating': '4.9', 'votes': '\\xa0(39K)'}, 'metacritic': {'metascore': '45'}}}, {'title': '9. La infiltrada', 'url': 'https://www.imdb.com//title/tt29270150/?ref_=sr_t_9', 'ratings': {'imdb': {'rating': '7.2', 'votes': '\\xa0(3.7K)'}}}, {'title': '10. La fiebre de los ricos', 'url': 'https://www.imdb.com//title/tt17677434/?ref_=sr_t_10', 'ratings': {'imdb': {'rating': '6.3', 'votes': '\\xa0(4.5K)'}}}, {'title': '11. Ni una más', 'url': 'https://www.imdb.com//title/tt22188654/?ref_=sr_t_11', 'ratings': {'imdb': {'rating': '7.2', 'votes': '\\xa0(5.7K)'}}}, {'title': '12. Invisible', 'url': 'https://www.imdb.com//title/tt26658061/?ref_=sr_t_12', 'ratings': {'imdb': {'rating': '7.2', 'votes': '\\xa0(928)'}}}, {'title': '13. Pídeme lo que quieras', 'url': 'https://www.imdb.com//title/tt31723358/?ref_=sr_t_13', 'ratings': {'imdb': {'rating': '3.6', 'votes': '\\xa0(314)'}}}, {'title': '14. Asalto al Banco Central', 'url': 'https://www.imdb.com//title/tt29386497/?ref_=sr_t_14', 'ratings': {'imdb': {'rating': '6.6', 'votes': '\\xa0(2.2K)'}}}, {'title': '15. Zorro', 'url': 'https://www.imdb.com//title/tt20252368/?ref_=sr_t_15', 'ratings': {'imdb': {'rating': '6.3', 'votes': '\\xa0(2.7K)'}}}, {'title': '16. Respira', 'url': 'https://www.imdb.com//title/tt28298539/?ref_=sr_t_16', 'ratings': {'imdb': {'rating': '6.5', 'votes': '\\xa0(2.5K)'}}}, {'title': '17. Tardes de soledad', 'url': 'https://www.imdb.com//title/tt26245982/?ref_=sr_t_17', 'ratings': {'imdb': {'rating': '7.2', 'votes': '\\xa0(277)'}, 'metacritic': {'metascore': '80'}}}, {'title': '18. 1992', 'url': 'https://www.imdb.com//title/tt27787158/?ref_=sr_t_18', 'ratings': {'imdb': {'rating': '5.6', 'votes': '\\xa0(1.9K)'}}}, {'title': '19. El correo', 'url': 'https://www.imdb.com//title/tt27050277/?ref_=sr_t_19', 'ratings': {'imdb': {'rating': '6.0', 'votes': '\\xa0(4.3K)'}}}, {'title': '20. La virgen roja', 'url': 'https://www.imdb.com//title/tt27599713/?ref_=sr_t_20', 'ratings': {'imdb': {'rating': '6.8', 'votes': '\\xa0(3K)'}}}, {'title': '21. El llanto', 'url': 'https://www.imdb.com//title/tt26750774/?ref_=sr_t_21', 'ratings': {'imdb': {'rating': '6.1', 'votes': '\\xa0(1K)'}}}, {'title': '22. A través de tu mirada', 'url': 'https://www.imdb.com//title/tt28105944/?ref_=sr_t_22', 'ratings': {'imdb': {'rating': '5.4', 'votes': '\\xa0(5.1K)'}}}, {'title': '23. La vida breve', 'url': 'https://www.imdb.com//title/tt31106325/?ref_=sr_t_23', 'ratings': {'imdb': {'rating': '6.7', 'votes': '\\xa0(295)'}}}, {'title': '24. Asuntos internos', 'url': 'https://www.imdb.com//title/tt29386505/?ref_=sr_t_24', 'ratings': {'imdb': {'rating': '7.2', 'votes': '\\xa0(62)'}}}, {'title': '25. Reina Roja', 'url': 'https://www.imdb.com//title/tt20883126/?ref_=sr_t_25', 'ratings': {'imdb': {'rating': '6.8', 'votes': '\\xa0(6.1K)'}}}]\n"
     ]
    }
   ],
   "source": [
    "import requests\n",
    "from bs4 import BeautifulSoup\n",
    "import re\n",
    "\n",
    "url = 'https://www.imdb.com/search/title/?release_date=2024-01-01,2024-12-31&country_of_origin=ES'\n",
    "\n",
    "headers = {\n",
    "    'User-Agent': 'Mozilla/5.0 (Windows NT 10.0; Win64; x64) AppleWebKit/537.36 (KHTML, like Gecko) Chrome/120.0.0.0 Safari/537.36'\n",
    "}\n",
    "\n",
    "response = requests.get(url, headers=headers)\n",
    "response.raise_for_status()\n",
    "\n",
    "soup = BeautifulSoup(response.text, 'html.parser')\n",
    "\n",
    "#print(soup.prettify())\n",
    "\n",
    "results = soup.find(\"div\", {\"role\" : \"tabpanel\"}).findChild(\"ul\").findChildren(\"li\",recursive=\"False\")\n",
    "\n",
    "#print(results)\n",
    "movies = []\n",
    "\n",
    "for result in results :\n",
    "    if len(result.attrs) == 1 :\n",
    "        dataDiv = result.find('div', class_='eefKuM')\n",
    "        titleDiv = dataDiv.find('div', class_='ipc-title')\n",
    "        movieURL = 'https://www.imdb.com/' + titleDiv.find('a')['href']\n",
    "        title = titleDiv.find('a').find('h3').text\n",
    "        metaSpan = dataDiv.find('span', class_='kSqvWq')\n",
    "        imdbRating = dataDiv.find('span', class_='ipc-rating-star--rating').text\n",
    "        imdbVoteCount = dataDiv.find('span', class_='ipc-rating-star--voteCount').text\n",
    "        metascore = dataDiv.find('span', class_='metacritic-score-box')\n",
    "        movieDict = {}\n",
    "        movieRatings = {}\n",
    "        movieIMDbRatings = {}\n",
    "        movieMetacriticRatings = {}\n",
    "        movieDict['title'] = title\n",
    "        movieDict['url'] = movieURL\n",
    "        movieIMDbRatings['rating'] = imdbRating\n",
    "        movieIMDbRatings['votes'] = imdbVoteCount\n",
    "        movieRatings['imdb'] = movieIMDbRatings\n",
    "        if metascore != None:\n",
    "            movieMetacriticRatings['metascore'] = metascore.text\n",
    "            movieRatings['metacritic'] = movieMetacriticRatings\n",
    "        movieDict['ratings'] = movieRatings\n",
    "        \n",
    "        movies.append(movieDict)\n",
    "\n",
    "print(movies)"
   ]
  },
  {
   "cell_type": "code",
   "execution_count": null,
   "id": "f53d009c-2cfa-47be-ad50-e4222775ab0f",
   "metadata": {},
   "outputs": [],
   "source": []
  }
 ],
 "metadata": {
  "kernelspec": {
   "display_name": "Python 3 (ipykernel)",
   "language": "python",
   "name": "python3"
  },
  "language_info": {
   "codemirror_mode": {
    "name": "ipython",
    "version": 3
   },
   "file_extension": ".py",
   "mimetype": "text/x-python",
   "name": "python",
   "nbconvert_exporter": "python",
   "pygments_lexer": "ipython3",
   "version": "3.9.2"
  }
 },
 "nbformat": 4,
 "nbformat_minor": 5
}
